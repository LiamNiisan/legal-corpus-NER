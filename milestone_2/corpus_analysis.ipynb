{
 "cells": [
  {
   "cell_type": "code",
   "execution_count": 1,
   "metadata": {},
   "outputs": [],
   "source": [
    "import numpy as np\n",
    "from zipfile import ZipFile\n",
    "from collections import Counter\n",
    "from nltk.tokenize import word_tokenize\n",
    "from nltk.corpus import stopwords\n",
    "import matplotlib.pyplot as plt\n",
    "\n",
    "stopwords_set = stopwords.words(\"English\")\n"
   ]
  },
  {
   "cell_type": "code",
   "execution_count": 2,
   "metadata": {},
   "outputs": [
    {
     "data": {
      "text/plain": [
       "400"
      ]
     },
     "execution_count": 2,
     "metadata": {},
     "output_type": "execute_result"
    }
   ],
   "source": [
    "corpus = []\n",
    "with ZipFile(\"../src/data/judgements.zip\") as zipfile:\n",
    "    for filename in zipfile.namelist():\n",
    "        with open(\"../src/data/\" + filename, errors=\"replace\") as f:\n",
    "            corpus.append(f.read())\n",
    "len(corpus)"
   ]
  },
  {
   "cell_type": "code",
   "execution_count": 3,
   "metadata": {},
   "outputs": [
    {
     "data": {
      "text/plain": [
       "622868"
      ]
     },
     "execution_count": 3,
     "metadata": {},
     "output_type": "execute_result"
    }
   ],
   "source": [
    "bccourt_words = [word.lower() for text in corpus for word in word_tokenize(text) if word.isalpha()]\n",
    "len(bccourt_words)"
   ]
  },
  {
   "cell_type": "code",
   "execution_count": 4,
   "metadata": {},
   "outputs": [
    {
     "data": {
      "text/plain": [
       "16178"
      ]
     },
     "execution_count": 4,
     "metadata": {},
     "output_type": "execute_result"
    }
   ],
   "source": [
    "types = set(bccourt_words)\n",
    "len(types)"
   ]
  },
  {
   "cell_type": "code",
   "execution_count": 5,
   "metadata": {},
   "outputs": [
    {
     "data": {
      "text/plain": [
       "[('the', 59149),\n",
       " ('of', 26198),\n",
       " ('to', 19835),\n",
       " ('in', 15304),\n",
       " ('and', 14577),\n",
       " ('that', 13772),\n",
       " ('a', 11889),\n",
       " ('for', 7924),\n",
       " ('was', 7776),\n",
       " ('is', 7472),\n",
       " ('on', 6030),\n",
       " ('not', 5338),\n",
       " ('as', 4789),\n",
       " ('be', 4779),\n",
       " ('by', 4778),\n",
       " ('he', 4714),\n",
       " ('i', 4704),\n",
       " ('it', 4362),\n",
       " ('this', 4121),\n",
       " ('with', 3580),\n",
       " ('at', 3466),\n",
       " ('an', 3388),\n",
       " ('his', 3379),\n",
       " ('plaintiff', 3124),\n",
       " ('or', 3118)]"
      ]
     },
     "execution_count": 5,
     "metadata": {},
     "output_type": "execute_result"
    }
   ],
   "source": [
    "counts = Counter(bccourt_words)\n",
    "counts.most_common(25)"
   ]
  },
  {
   "cell_type": "code",
   "execution_count": 6,
   "metadata": {},
   "outputs": [
    {
     "data": {
      "text/plain": [
       "[('plaintiff', 3124),\n",
       " ('court', 2502),\n",
       " ('would', 2142),\n",
       " ('appeal', 1891),\n",
       " ('evidence', 1689),\n",
       " ('defendant', 1674),\n",
       " ('judge', 1661),\n",
       " ('trial', 1660),\n",
       " ('justice', 1658),\n",
       " ('appellant', 1619),\n",
       " ('order', 1604),\n",
       " ('counsel', 1575),\n",
       " ('time', 1499),\n",
       " ('case', 1350),\n",
       " ('made', 1212),\n",
       " ('respondent', 1159),\n",
       " ('honourable', 1144),\n",
       " ('one', 1117),\n",
       " ('judgment', 1103),\n",
       " ('act', 1020),\n",
       " ('british', 1013),\n",
       " ('columbia', 1012),\n",
       " ('may', 1010),\n",
       " ('reasons', 999),\n",
       " ('application', 993)]"
      ]
     },
     "execution_count": 6,
     "metadata": {},
     "output_type": "execute_result"
    }
   ],
   "source": [
    "counts = Counter([word for word in bccourt_words if word not in stopwords_set])\n",
    "counts.most_common(25)"
   ]
  },
  {
   "cell_type": "code",
   "execution_count": 7,
   "metadata": {},
   "outputs": [],
   "source": [
    "\"\"\"\n",
    "Code borrowed from lecture 4 of COLX 521\n",
    "\"\"\"\n",
    "\n",
    "corpora = [\"treebank\", \"gutenberg\", \"reuters\", \"switchboard\",\"webtext\", \"movie_reviews\"]\n",
    "exec(\"from nltk.corpus import \" + \", \".join(corpora))\n",
    "\n",
    "def ordered_bar_from_dict(py_dict, title):\n",
    "    '''create a bar chart from values in py_dict, ordered from smallest to largest and labeled with keys'''\n",
    "    labels = sorted(py_dict.keys(),key=lambda x: py_dict[x])\n",
    "    y_pos = np.arange(len(labels))\n",
    "    values = sorted(py_dict.values())\n",
    "\n",
    "    plt.bar(y_pos, values, align='center', alpha=0.5,color=list('rgbkym'))\n",
    "    plt.xticks(y_pos, labels,rotation=45)\n",
    "    plt.title(title)\n",
    "    plt.show()\n",
    "\n",
    "def type_token_ratio(words, num_words):\n",
    "    '''calculate type-token ratio from the corpus of word tokens (list of strings) using the first\n",
    "    num_words tokens'''\n",
    "    type_set = set(word.lower() for word in words[:num_words])\n",
    "    return len(type_set) / num_words    \n",
    "\n",
    "def average_word_length(words):\n",
    "    '''calculate the average length of the provided words'''\n",
    "    total_words = 0\n",
    "    total_chars = 0\n",
    "    for word in words:\n",
    "        total_words += 1\n",
    "        total_chars += len(word)\n",
    "    return total_chars/total_words\n",
    "\n",
    "def get_unigram_probs(words):\n",
    "    '''get unigram probabilities for the words in a corpus'''\n",
    "    counts = Counter(word.lower() for word in words)\n",
    "    total = sum(counts.values())\n",
    "    return {word:count/total for word,count in counts.items()}\n",
    "    \n",
    "def divide_probs(prob1, prob2):\n",
    "    '''given two probability dictionaries, create a dictionary has the ratios of probabilities (prob1/prob2)\n",
    "    for each word included in both'''\n",
    "    all_words = set(prob1.keys()).intersection(prob2.keys())\n",
    "    return {word:prob1.get(word,0)/prob2.get(word,0) for word in all_words}"
   ]
  },
  {
   "cell_type": "code",
   "execution_count": 8,
   "metadata": {},
   "outputs": [
    {
     "data": {
      "image/png": "[encoded data removed]",
      "text/plain": [
       "<Figure size 432x288 with 1 Axes>"
      ]
     },
     "metadata": {
      "needs_background": "light"
     },
     "output_type": "display_data"
    }
   ],
   "source": [
    "avg_word_lengths = {}\n",
    "avg_word_lengths[\"bccourts\"] = average_word_length(bccourt_words)\n",
    "for corpus in corpora:\n",
    "    exec(\"words = \" +corpus + \".words()\")\n",
    "    avg_word_lengths[corpus] = average_word_length(words)\n",
    "ordered_bar_from_dict(avg_word_lengths,\"Average word lengths\")"
   ]
  },
  {
   "cell_type": "code",
   "execution_count": 9,
   "metadata": {},
   "outputs": [
    {
     "data": {
      "image/png": "[encoded data removed]",
      "text/plain": [
       "<Figure size 432x288 with 1 Axes>"
      ]
     },
     "metadata": {
      "needs_background": "light"
     },
     "output_type": "display_data"
    }
   ],
   "source": [
    "ttrs = {}\n",
    "ttrs[\"bccourts\"] = type_token_ratio(bccourt_words, 10000)\n",
    "for corpus in corpora:\n",
    "    exec(\"words = \" +corpus + \".words()\")\n",
    "    ttrs[corpus] = type_token_ratio(words,10000)\n",
    "ordered_bar_from_dict(ttrs,\"Type token ratios\")"
   ]
  },
  {
   "cell_type": "code",
   "execution_count": 10,
   "metadata": {},
   "outputs": [
    {
     "name": "stdout",
     "output_type": "stream",
     "text": [
      "['act', 'columbia', 'court', 'justice', 'upon', 'evidence', 'claim', 'however', 'loss', 'reasonable', 'appeal', 'canada', 'following', 'party', 'shall', 'british', 'october', 'order', 'accident', 'therefore', 'facts', 'required', 'present', 'agreed', 'respect', 'june', 'sale', 'limited', 'received', 'sum', 'reasons', 'further', 'july', 'satisfied', 'material', 'granted', 'motor', 'supreme', 'entered', 'interest', 'action', 'apply', 'august', 'consideration', 'judge', 'trial', 'issue', 'suffered', 'clearly', 'duty']\n"
     ]
    }
   ],
   "source": [
    "switchboard_probs = get_unigram_probs(switchboard.words())\n",
    "bccourt_probs = get_unigram_probs(bccourt_words)\n",
    "\n",
    "div_dict = divide_probs(switchboard_probs, bccourt_probs)\n",
    "div_sorted_words = sorted(div_dict.keys(), key=lambda x: div_dict[x])\n",
    "\n",
    "print(div_sorted_words[:50])"
   ]
  },
  {
   "cell_type": "code",
   "execution_count": 11,
   "metadata": {},
   "outputs": [
    {
     "name": "stdout",
     "output_type": "stream",
     "text": [
      "['judgment', 'defendant', 'sentence', 'entitled', 'notice', 'appearing', 'accident', 'therefore', 'appropriate', 'trial', 'am', 'crown', 'sum', 'appeal', 'jurisdiction', 'circumstances', 'granted', 'pain', 'driver', 'injury', 'application', 'agree', 'respect', 'dismiss', 'wife', 'premises', 'sentencing', 'count', 'reasons', 'b', 'date', 'facts', 'insured', 'defendants', 'properly', 'maintenance', 'failure', 'present', 'proper', 'purposes', 'parties', 'argument', 'sufficient', 'property', 'residence', 'stated', 'error', 'conviction', 'vehicle', 'evidence']\n"
     ]
    }
   ],
   "source": [
    "treebank_probs = get_unigram_probs(treebank.words())\n",
    "bccourt_probs = get_unigram_probs(bccourt_words)\n",
    "\n",
    "div_dict = divide_probs(treebank_probs, bccourt_probs)\n",
    "div_sorted_words = sorted(div_dict.keys(), key=lambda x: div_dict[x])\n",
    "\n",
    "print(div_sorted_words[:50])"
   ]
  }
 ],
 "metadata": {
  "interpreter": {
   "hash": "d8220b76cfe9388742b41023fa80cc7118ae1a5c202f89a323335059602ac9bc"
  },
  "kernelspec": {
   "display_name": "Python 3.9.9 ('base')",
   "language": "python",
   "name": "python3"
  },
  "language_info": {
   "codemirror_mode": {
    "name": "ipython",
    "version": 3
   },
   "file_extension": ".py",
   "mimetype": "text/x-python",
   "name": "python",
   "nbconvert_exporter": "python",
   "pygments_lexer": "ipython3",
   "version": "3.9.9"
  },
  "orig_nbformat": 4
 },
 "nbformat": 4,
 "nbformat_minor": 2
}
