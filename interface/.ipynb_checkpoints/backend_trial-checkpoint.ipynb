{
 "cells": [
  {
   "cell_type": "code",
   "execution_count": 40,
   "id": "f00c5661-887b-4309-810a-ad2f5186b7b2",
   "metadata": {},
   "outputs": [
    {
     "name": "stderr",
     "output_type": "stream",
     "text": [
      "[nltk_data] Downloading package brown to\n",
      "[nltk_data]     /Users/snehajhaveri/nltk_data...\n",
      "[nltk_data]   Package brown is already up-to-date!\n",
      "[nltk_data] Downloading package universal_tagset to\n",
      "[nltk_data]     /Users/snehajhaveri/nltk_data...\n",
      "[nltk_data]   Package universal_tagset is already up-to-date!\n"
     ]
    }
   ],
   "source": [
    "from fastapi import FastAPI\n",
    "from fastapi.responses import FileResponse, HTMLResponse\n",
    "from collections import defaultdict\n",
    "import spacy\n",
    "import uvicorn\n",
    "import numpy as np\n",
    "import random\n",
    "import json\n",
    "import pandas as pd\n",
    "import os\n",
    "import nltk\n",
    "nltk.download(\"brown\")\n",
    "nltk.download(\"universal_tagset\")\n",
    "from nltk.corpus import brown\n",
    "from collections import defaultdict"
   ]
  },
  {
   "cell_type": "code",
   "execution_count": 41,
   "id": "46ad974c-113b-4790-85ee-a3ee0dcb3ef4",
   "metadata": {},
   "outputs": [],
   "source": [
    "def open_file_return_corpus(path):\n",
    "    \"\"\"Given a path, open a json file and return a list of dictionaries.\"\"\"\n",
    "    f = open(path, encoding=\"utf-8\")\n",
    "    corpus = json.load(f)\n",
    "    f.close()\n",
    "    return corpus\n",
    "\n",
    "\n",
    "# load corpora\n",
    "paths = [\n",
    "    \"./final_annotations.json\",\n",
    "]\n",
    "\n",
    "corpus = open_file_return_corpus(paths[0])"
   ]
  },
  {
   "cell_type": "code",
   "execution_count": 43,
   "id": "1edceade-fa44-46a7-892a-e57910a53b66",
   "metadata": {
    "tags": []
   },
   "outputs": [
    {
     "name": "stdout",
     "output_type": "stream",
     "text": [
      "Date of Release: January 5, 1994 NO. D031220 NEW WESTMINSTER REGISTRY IN THE SUPREME COURT OF BRITISH COLUMBIA BETWEEN: ) ) PATRICIA ELSIE DeCENZO ) REASONS FOR ) PETITIONER ) JUDGMENT OF ) AND: ) MASTER JOYCE ) FRANK RAY DeCENZO ) (IN CHAMBERS) ) RESPONDENT ) W. Stilling, Q.C. Appearing on behalf of the petitioner S.R. Hogan, Esq. Appearing on behalf of the respondent Place and date of hearing: New Westminster, British Columbia November 3, 1993 NATURE OF THE APPLICATION The petitioner seeks an order pursuant to s.15 of the Divorce Act, 1985 that \"the child support payable by the petitioner to the respondent pursuant to a Separation Agreement dated March 29, 1982 be cancelled, terminated, rescinded or varied and that maintenance arrears thereunder be fixed in the sum of $3,866.64 to be paid to the respondent at the time of the settlement of the family home between the petitioner and the respondent\". FACTS The parties married on January 25, 1971 and separated September 21, 1981. The parties had three children: Kimberley Florence, born April 26, 1971, Marcia Christina Lenora, born December 26, 1975, and Jennifer Patricia, born September 13, 1978. The children remained in the care of the respondent following the separation of the parties. On March 29, 1982 the parties entered into a Separation Agreement. The portions of that agreement which are relevant to this application are set out below: 6. The Husband shall have sole custody, care and control of the infant children, KIMBERLEY FLORENCE DeCENZO, MARCIA CHRISTINA LENORA DeCENZO, and JENNIFER PATRICIA DeCENZO, and the Wife shall be entitled to reasonable and generous access. 7. Upon obtaining regular full-time employment, the Wife will pay to the Husband the sum of Sixty-Six Dollars and Sixty-Seven ($66.67) Cents per month for the support and maintenance of each of the infant children, being altogether the sum of Two Hundred ($200.00) Dollars per month, such payment to continue with respect to each child so long as such child resides with the Husband until such child attains the age of Nineteen (19) years, becomes self-supporting or dies, whichever event shall first occur. . . 9. During the continuance of this Agreement and while not in default hereunder, the Husband shall be entitled to the sole right of possession of the former matrimonial home located at 2448 - 240th Street Langley, British Columbia; ALWAYS PROVIDED THAT in lieu of rent, the Husband shall satisfy from time to time all obligations arising out of the Mortgage until the same is fully paid and satisfied. 10. The Husband shall satisfy all property taxes, utilities charges, regular maintenance and repairs required to keep and maintain the said property without any expense to the Wife, and the Husband agrees to indemnify and save harmless the Wife from any liabilities howsoever arising therefrom. 11. When the youngest then-surviving child of the marriage ceased to be a full-time student, graduates from high school, or moves from the said property, whichever event shall first occur, the Husband and Wife agree that the said property shall be forthwith sold, with the net proceeds of sale after payment of any amounts owing pursuant to the Mortgage being split equally between the Husband and the Wife. The Separation Agreement was not registered with this court in accordance with s.74 of the Family Relations Act . The only maintenance paid by the petitioner was $200 in each of April and May of 1982, $150 in August 1982 and $100 in October 1982. She deposes that she made those payments notwithstanding that she was not employed full-time. She deposes that she ceased making any maintenance payments because the respondent was poisoning the children against her and made it clear that he wished her to have nothing to do with the children. The petitioner deposes that she worked part-time only until July 1989. In her affidavit she set out her earnings during the period 1982 to July 1989 based upon a review of her pay slips. The petitioner admits that she was employed full-time from July 1989 until July 1991 when she quit her job. She deposes that her supervisor was an alcoholic who drank at work and that the employment conditions were intolerable. There is no dispute that the petitioner did not pay maintenance during the time she was employed full-time and admits that there are arrears for that period totalling $3,866.64. The petitioner deposes that she worked for Shelter Industries from July to October 1991 then received unemployment insurance benefits until July 1982 when she found employment at a golf course where she worked until October 1992. The petitioner became pregnant in August 1992 and gave birth to her child on May 26, 1993. It appears that she has not worked since October 1992. The petitioner wishes to stay at home to care for her child. She is supported by her common law spouse, the father of the child. The petitioner commenced these proceedings on April 5, 1993. In her petition she refers to and relies upon the Separation Agreement. In his Counter-Petition the respondent seeks, amongst other relief, interim and permanent child support pursuant to s. 15 of the Divorce Act, 1985 or s.56 of the Family Relations Act . He also seeks a determination of arrears under the Separation Agreement and a set-off of those arrears against the petitioner's interest in the former matrimonial home. He seeks a judicial reapportionment of assets or, alternatively, variation of the Separation Agreement pursuant to s.54 of the Family Relations Act . The respondent has agreed to suspend maintenance payable by the agreement for a period of six months following the birth of the child, that is until December 1, 1993. ISSUES 1. Does s.15 of the Divorce Act, 1985 enable the petitioner to seek this order? 2. What is the effect of the Separation Agreement? 3. Is the court entitled to deal with arrears of maintenance which have accrued under the agreement on an application under s. 15? 4. If so, what is the amount of the arrears? 5. Is the petitioner entitled to suspension of enforcement of arrears pending a sale of the former matrimonial home? 6. Is the petitioner entitled to have the maintenance obligation set out in the agreement cancelled or varied? 7. Is the petitioner entitled to a suspension of enforcement with respect to her maintenance obligations pending sale of the former matrimonial home? ANALYSIS 1. Does s.15 of the Divorce Act, 1985 enable the petitioner to seek this order? Section 15(2) of the Divorce Act, 1985 provides that the court may, on application of either or both spouses, make an order requiring one spouse to pay or secure and pay periodic or lumps sum support for the other spouse or for the children of the marriage. Subsection (3) permits the making of an interim order. In this case the petitioner does not apply for an order requiring her to pay. On the contrary, she seeks, in effect, an order absolving her of any requirement to pay interim support. The order sought is in the nature of a declaration of her obligation. I am of the opinion that the petitioner can seek an order under s.15 which determines her obligation to pay interim support pursuant to the Divorce Act, 1985 . However, for the reasons given in the following sections, I am of the opinion that the petitioner cannot obtain a variation of the Separation Agreement, as such, pursuant to s.15. 2. What is the effect of the Separation Agreement? 3. Is the court entitled to deal with arrears of maintenance which have accrued under the agreement on an application under s. 15? It is convenient to deal with these two issues together. The maintenance provision in the Separation Agreement is, in my view, a matter of contract between the two parties. It is not subject to a variation application under s.17 of the Divorce Act, 1985 . The agreement was not filed with the court pursuant to the provisions of s.74 of the Family Relations Act and is not enforceable under that section as though it were an order of the court made under that act. Therefore, it would not be subject to variation under s.62 of the Family Relations Act , even if that section was relied upon. The property provisions of the agreement may be subject to judicial alteration under s.51 or s.54 of the Family Relations Act but those sections do not appear to give the jurisdiction to vary maintenance provisions. In any event any application under those sections should be determined at trial. I conclude, therefore, that there is no basis upon which the court can retroactively \"cancel, rescind or vary\" the maintenance provisions of the agreement on this interim application. Likewise there was no authority provided which would permit the court to suspend whatever rights the respondent may have to enforce the maintenance provision or to take proceedings based upon the petitioner's alleged default under the agreement pending sale of the former matrimonial home. While there is no ability retroactively to vary maintenance, the court is not precluded from making an order under s. 15 of the Divorce Act, 1985 determining the amount of interim child support, if any, which ought to be paid notwithstanding the existence of an agreement respecting maintenance. The existence of an agreement is not a bar to the Court's jurisdiction to make whatever order for child support may be appropriate. The existence of an agreement is certainly a factor for the court to consider in determining interim support and may afford strong evidence that the agreement made adequate provision for the needs of the children but it is not determinative of the issue. [See e.g. Dickson v. Dickson (1987) 11 R.F.L. 337 (B.C.C.A.) ]. 4. If so, what is the amount of the arrears? 5. Is the petitioner entitled to suspension of enforcement of arrears pending a sale of the former matrimonial home? For the reasons stated above it is not appropriate to deal with these issues on this application. 6. Is the petitioner entitled to have the maintenance obligation set out in the agreement cancelled or varied? More accurately stated, the issue is what is the appropriate amount, if any, which the petitioner should pay by way of interim child support, taking into account the factors and objectives set out in s.15, including the existence of the Separation Agreement. The agreement was entered into with full disclosure and after receiving legal advice. The situation in which the petitioner now finds herself was not one which could be said to be unexpected or unanticipated. In my view the agreement is a very important consideration in this case. Counsel for the petitioner submits, in essence that the petitioner lacks the means to provide monetary support and that the petitioner's obligation to support her children is met to a sufficient degree by her agreement to delay a sale of the former matrimonial home and to permit the respondent and children to reside in the home without any obligation on the part of the respondent to pay occupation rent. That forbearance on the part of the petitioner is a benefit to the respondent and children. However, it is not without consideration on the part of the respondent. He has agreed to pay the mortgage and to maintain the property for the benefit of the petitioner as well as for himself. Subject to any judicial reapportionment under ss.51 or 54 the petitioner stands to receive a one half interest in property which has appreciated substantially in value. Furthermore, the quantum of child support set out in the agreement is extremely modest, in part, I conclude, because of the petitioner's agreement to a delay on sale. The petitioner wishes to remain at home with her infant rather than place the child in daycare so that she can work. That is an understandable desire. But the petitioner has obligations towards her other children which ought not to be sacrificed for the benefit of the new child. The petitioner has taken on her new responsibilities knowing of her existing obligations. A similar issue arose in the recent case of Zerr v. Zerr (1993) 48 R.F.L. (3d) 31 (B.C.S.C.) . There the father was obliged by order to pay maintenance for his two children in the amount of $175 per child. The mother, who had custody, was employed. Subsequently the mother entered into a new relationship and had a child. She wished to remain at home with the young child and sought an increase in child support. Clancy, J. referred to Savoie v. Lamarche (1990) 71 D.L.R. (4th) 481 (Que.C.A.) in which the circumstances were similar to those in the present case. The non-custodial mother had a child from a new relationship and sought to have her support obligations eliminated. At p.488 Chevalier J. said: \"In my view it is also unacceptable to suppose, as the appellant has done in this case, that in principle the birth of a child automatically gives a parent the right to be exempted from the obligation of financial support, by unilaterally deciding to cut herself off from any source of income by which she could provide for them. Whatever the intrinsic merits of the reasons for her actions, the appellant must realize that she still has obligations to her other two children and that she can only fulfil those obligations by returning to the workforce.\" Clancy, J. expressed his agreement that a person is not entiled to give up employment entirely and expect a former spouse to bear the full burden of that decision. He did conclude, however that for a period of time following the birth of a child a working mother has a diminished ability to contribute to maintenance but that after a reasonable period of time she should be expected to return to the workplace. That, it seems to me, is just what the respondent has suggested in this case by agreeing to suspend maintenance for a period of six months. It is suggested that the agreement obliges the petitioner to pay child maintenance only during those periods when she has regular full-time employment. In my opinion that is a strained interpretation. It seems to me that the intent of the parties was to give the petitioner an opportunity to establish herself in the workforce and that once she was so established the obligation would arise and would thereafter remain. Even if the agreement were read as suspending maintenance during periods of involuntary unemployment, and I have considerable doubt that that is a correct interpretation, the evidence fails to establish that the petitioner is not able to be employed. I therefore decline to make the order sought under s.15. There was no cross application by the respondent for interim support under either the Divorce Act, 1985 or the Family Relations Act . Accordingly, the Separation Agreement will continue to determine the parties continuing rights and obligations in respect of child maintenance. 7. Is the petitioner entitled to a suspension of enforcement proceedings pending sale of the home with the accrued maintenance to be paid from the sale proceeds? It is my view that the court has no ability on this application to deal with suspension of enforcement with respect to obligations under the Separation Agreement. ORDER The application is dismissed. \"B. M. Joyce\" Master B.M. Joyce January 5, 1994 New Westminster, British Columbia\n"
     ]
    }
   ],
   "source": [
    "print(corpus[0]['text'])"
   ]
  },
  {
   "cell_type": "code",
   "execution_count": 71,
   "id": "b4bbb085-f462-40fb-9071-ca457b0b45cb",
   "metadata": {},
   "outputs": [],
   "source": [
    "# Finding data match\n",
    "def find_matching_documents(keyword, entity_name):\n",
    "    \"\"\"Given keyword, find paragraphs in court judgement documents.\n",
    "    Returns a dataframe of relevant judgement documents.\"\"\"\n",
    "    matching_documents = defaultdict(dict)\n",
    "    # find a paragraph in a corpus\n",
    "    count = 0\n",
    "    for i, doc in enumerate(corpus):\n",
    "        for entity in doc['entities']:\n",
    "            if entity['label'] == entity_name:\n",
    "                if keyword.lower() in entity['text'].lower():\n",
    "                    start, end = entity['span']\n",
    "                    if(start <= 200):\n",
    "                        matching_documents[count][\"doc_match\"] = doc['text'][:end+200]\n",
    "                    else:\n",
    "                        matching_documents[count][\"doc_match\"] = \"...\" + doc['text'][start-200:end+200] + \"...\"\n",
    "\n",
    "                    matching_documents[count][\"full_doc\"] = doc['url']\n",
    "                    break\n",
    "        count += 1\n",
    "\n",
    "    return matching_documents"
   ]
  },
  {
   "cell_type": "code",
   "execution_count": 72,
   "id": "d99160a9-1478-4972-ab77-09c890ac4dcc",
   "metadata": {},
   "outputs": [
    {
     "data": {
      "text/plain": [
       "defaultdict(dict,\n",
       "            {31: {'doc_match': 'COURT OF APPEAL FOR BRITISH COLUMBIA Citation: R. v. Lloyd,   2019 BCCA 25 Date: 20190115 Docket: CA45046 Between: Regina Respondent And Joseph Ryan Lloyd Appellant Before: The Honourable Mr. Justice Harris The Honourable Madam Justice Stromberg-Stein The Honourable Madam Justice Fenlon On appeal from: An  order of the Provincial Court of British Columbia, dated September 18, 2017  (conviction) and Janu',\n",
       "              'full_doc': 'https://www.bccourts.ca/jdb-txt/ca/19/00/2019BCCA0025.htm'},\n",
       "             34: {'doc_match': '...provides that no person shall disclose any information that is collected  pursuant   to an order under  SOIRA  or the fact that information relating to a  person is collected   under  SOIRA . Before: The   Honourable Mr. Justice Harris The   Honourable Mr. Justice Savage The   Honourable Madam Justice Fisher On appeal from: Orders of the Supreme Court of British  Columbia,   dated January 9, 2017 ( R. v. Horswill,  2017 BCSC 35,   ...',\n",
       "              'full_doc': 'https://www.bccourts.ca/jdb-txt/ca/19/00/2019BCCA0002.htm'},\n",
       "             78: {'doc_match': '...n: Ahmed v. Canna Clinic Medicinal Society,   2019 BCCA 44 Date: 20190116 Docket: CA45263 Between: Jutta Ahmed Appellant (Plaintiff) And Canna Clinic  Medicinal Society Respondent (Defendant) Before: The Honourable Mr. Justice Harris The Honourable Madam Justice Stromberg-Stein The Honourable Madam Justice Fenlon On appeal from: An  order of the Supreme Court of British Columbia, dated   April 6, 2018 ( Ahmed v. Cannaclinic Medic...',\n",
       "              'full_doc': 'https://www.bccourts.ca/jdb-txt/ca/19/00/2019BCCA0044.htm'},\n",
       "             86: {'doc_match': '...ingh  Ahluwalia Appellant (Plaintiff) And Richmond Taxi Co.  Holdings Ltd. (Duart),    Richmond Taxi Co. Limited (Duart), Richmond Taxi Cabs Ltd.,    Bank of Montreal Respondents (Defendants) Before: The Honourable Mr. Justice Harris (In Chambers) On appeal from: An  order of the Supreme Court of British Columbia, dated    October 18, 2019 ( Ahluwalia v. Richmond Taxi Co. Holdings Ltd. , 2019 BCSC 2189,     New Westminster Docket...',\n",
       "              'full_doc': 'https://www.bccourts.ca/jdb-txt/ca/21/00/2021BCCA0043.htm'},\n",
       "             87: {'doc_match': '...son’s reasons, the plaintiffs  filed an application for the variation of her order. The parties (the  plaintiffs in person and the defendants represented by Mr. Bradbury)  appeared in chambers before Mr. Justice Harris on June 22, 2017. He  ordered that the time for filing the appeal record and the transcripts of oral  evidence be extended to July 14, 2017; that the time for filing the plaintiffs’  factum be extend...',\n",
       "              'full_doc': 'https://www.bccourts.ca/jdb-txt/ca/19/00/2019BCCA0019.htm'}})"
      ]
     },
     "execution_count": 72,
     "metadata": {},
     "output_type": "execute_result"
    }
   ],
   "source": [
    "find_matching_documents('Harris', 'PERS_JUDGE')"
   ]
  },
  {
   "cell_type": "code",
   "execution_count": 63,
   "id": "576936f6-64d9-4063-826f-2e2fb44cd71f",
   "metadata": {},
   "outputs": [],
   "source": [
    "def create_row(dict):\n",
    "    S = []\n",
    "    i = 0\n",
    "    d = \"\"\n",
    "    S.append(\"<tr>\")\n",
    "    for k in dict.keys():\n",
    "        values = dict[k].values()\n",
    "        S = []\n",
    "        i += 1\n",
    "        S.append('<th scope=\"row\">' + str(i) + \"</td>\")\n",
    "        for value in values:\n",
    "            S.append('<td>' + value + '</td>')\n",
    "        S.append(\"</tr>\")\n",
    "        d += \"\".join(S)\n",
    "    return d\n",
    "\n",
    "def put_in_table(dictionary):\n",
    "    return '<table class=\"table table-hover table-dark\"><thead><tr><th scope=\"col\">#</th><th scope=\"col\">Search Entity</th><th scope=\"col\">Document</th></tr></thead>' + create_row(dictionary) + '</table>'"
   ]
  },
  {
   "cell_type": "code",
   "execution_count": 64,
   "id": "e51047fd-9a1d-4873-90e6-f176eb7dae7b",
   "metadata": {},
   "outputs": [
    {
     "name": "stdout",
     "output_type": "stream",
     "text": [
      "<table class=\"table table-hover table-dark\"><thead><tr><th scope=\"col\">#</th><th scope=\"col\">Search Entity</th><th scope=\"col\">Document</th></tr></thead><th scope=\"row\">1</td><td>The Honourable Mr. Justice Harris</td><td>COURT OF APPEAL FOR BRITISH COLUMBIA Citation: R. v. Lloyd,   2019 BCCA 25 Date: 20190115 Docket: CA45046 Between: Regina Respondent And Joseph Ryan Lloyd Appellant Before: The Honourable Mr. Justice Harris The Honourable Madam Justice Stromberg-Stein The Honourable Madam Justice Fenlon On appeal from: An  order of the Provincial Court of British Columbia, dated September 18, 2017  (conviction) and January 5, 2018 (sentence) ( R. v. Lloyd , Vancouver  Registry 233735-2-C). Oral Reasons for Judgm...</td></tr><th scope=\"row\">2</td><td>The   Honourable Mr. Justice Harris</td><td>COURT OF APPEAL  FOR BRITISH COLUMBIA Citation: R. v. Horswill,   2019 BCCA 2 Date: 20190111 Docket: CA44172 Between: Regina Respondent And Michael Scott Horswill Appellant Restriction on Publication: A  publication ban has been mandatorily imposed under   s. 486.4 of the  Criminal Code  restricting the publication,  broadcasting or   transmission in any way of evidence that could identify a complainant or  witness,   referred to in this judgment by the initials B.L.  This publication ban applie...</td></tr><th scope=\"row\">3</td><td>The Honourable Mr. Justice Harris</td><td>COURT OF APPEAL FOR BRITISH COLUMBIA Citation: Ahmed v. Canna Clinic Medicinal Society,   2019 BCCA 44 Date: 20190116 Docket: CA45263 Between: Jutta Ahmed Appellant (Plaintiff) And Canna Clinic  Medicinal Society Respondent (Defendant) Before: The Honourable Mr. Justice Harris The Honourable Madam Justice Stromberg-Stein The Honourable Madam Justice Fenlon On appeal from: An  order of the Supreme Court of British Columbia, dated   April 6, 2018 ( Ahmed v. Cannaclinic Medicinal Society , Vancouve...</td></tr><th scope=\"row\">4</td><td>The Honourable Mr. Justice Harris</td><td>COURT OF APPEAL FOR BRITISH COLUMBIA Citation: Ahluwalia v. Richmond Taxi Co. Holdings Ltd.,   2021 BCCA 43 Date: 20210201 Docket: CA46504 Between: Ranjit Singh  Ahluwalia Appellant (Plaintiff) And Richmond Taxi Co.  Holdings Ltd. (Duart),    Richmond Taxi Co. Limited (Duart), Richmond Taxi Cabs Ltd.,    Bank of Montreal Respondents (Defendants) Before: The Honourable Mr. Justice Harris (In Chambers) On appeal from: An  order of the Supreme Court of British Columbia, dated    October 18, 2019 ( ...</td></tr><th scope=\"row\">5</td><td>Mr. Justice Harris</td><td>COURT OF APPEAL FOR BRITISH COLUMBIA Citation: Ma v. Vansanten,   2019 BCCA 19 Date: 20190118 Dockets:  CA44387; CA44388; CA44389 Docket: CA44387 Between: Yin Yin Ma Appellant (Plaintiff) And James R. Vansanten Respondent (Defendant) - and - Docket: CA44388 Between: Hla Shwe Maung Appellant (Plaintiff) And Bryan Terry Hales  and James Vansanten Respondents (Defendants) - and - Docket: CA44389 Between: Yin Yin Ma Appellant (Plaintiff) And Maria Haniak,  William Haniak and Terry Hales Respondents ...</td></tr></table>\n"
     ]
    }
   ],
   "source": [
    "print(put_in_table(find_matching_documents('Harris', 'PERS_JUDGE')))"
   ]
  },
  {
   "cell_type": "code",
   "execution_count": null,
   "id": "1f7de4ac-3383-4eda-93d0-63a32b80f566",
   "metadata": {},
   "outputs": [],
   "source": [
    "# def create_row(dict):\n",
    "#     S = []\n",
    "#     i = 0\n",
    "#     d = \"\"\n",
    "#     S.append(\"<tr>\")\n",
    "#     for key, value in dict.items():\n",
    "#         S = []\n",
    "#         i += 1\n",
    "#         S.append('<th scope=\"row\">' + str(i) + \"</td>\")\n",
    "#         S.append('<td>' + key + '</td>')\n",
    "#         S.append('<td>' + value + '</td>')\n",
    "#         S.append(\"</tr>\")\n",
    "#         d += \"\".join(S)\n",
    "#     return d\n",
    "\n",
    "# def put_in_table(dictionary):\n",
    "#     return '<table class=\"table table-hover table-dark\"><thead><tr><th scope=\"col\">#</th><th scope=\"col\">Search Entity</th><th scope=\"col\">Document</th></tr></thead>' + create_row(dictionary) + '</table>'"
   ]
  },
  {
   "cell_type": "code",
   "execution_count": 39,
   "id": "b6704ef0-863d-4848-8454-5011075dd5f2",
   "metadata": {},
   "outputs": [
    {
     "name": "stdout",
     "output_type": "stream",
     "text": [
      "<table class=\"table table-hover table-dark\"><thead><tr><th scope=\"col\">#</th><th scope=\"col\">Search Entity</th><th scope=\"col\">Document</th></tr></thead><th scope=\"row\">1</td><td>doc_id</td><td>9</td></tr><th scope=\"row\">2</td><td>entity</td><td>Judge</td></tr><th scope=\"row\">3</td><td>doc</td><td>COURT OF APPEAL  FOR BRITISH COLUMBIA Citation: R. v. Horswill,   2019 BCCA 2 Date: 20190111 Docket: CA44172 Between: Regina Respondent And Michael Scott Horswill Appellant Restriction on Publication: A  publication ban has been mandatorily imposed under   s. 486.4 of the  Criminal Code  restricting the publication,  broadcasting or   transmission in any way of evidence that could identify a complainant or  witness,   referred to in this judgment by the initials B.L.  This publication ban applie...</td></tr></table>\n"
     ]
    }
   ],
   "source": [
    "print(put_in_table(find_matching_documents('Harris', 'Judge')))"
   ]
  },
  {
   "cell_type": "code",
   "execution_count": null,
   "id": "45414725-19ae-4e07-a618-30e9819649b7",
   "metadata": {},
   "outputs": [],
   "source": []
  }
 ],
 "metadata": {
  "kernelspec": {
   "display_name": "Python 3",
   "language": "python",
   "name": "python3"
  },
  "language_info": {
   "codemirror_mode": {
    "name": "ipython",
    "version": 3
   },
   "file_extension": ".py",
   "mimetype": "text/x-python",
   "name": "python",
   "nbconvert_exporter": "python",
   "pygments_lexer": "ipython3",
   "version": "3.9.5"
  }
 },
 "nbformat": 4,
 "nbformat_minor": 5
}
